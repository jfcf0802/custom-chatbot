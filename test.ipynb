{
 "cells": [
  {
   "cell_type": "code",
   "execution_count": 1,
   "metadata": {},
   "outputs": [
    {
     "name": "stderr",
     "output_type": "stream",
     "text": [
      "c:\\Users\\joaoc\\Desktop\\New folder\\my_env\\Lib\\site-packages\\tqdm\\auto.py:21: TqdmWarning: IProgress not found. Please update jupyter and ipywidgets. See https://ipywidgets.readthedocs.io/en/stable/user_install.html\n",
      "  from .autonotebook import tqdm as notebook_tqdm\n",
      "Loading checkpoint shards: 100%|██████████| 4/4 [02:59<00:00, 44.93s/it]\n"
     ]
    }
   ],
   "source": [
    "from transformers import AutoModelForCausalLM, AutoTokenizer\n",
    "import torch\n",
    "import os\n",
    "\n",
    "# Set up the environment variable for HuggingFace and initialize the desired model.\n",
    "HF_TOKEN = os.getenv(\"HUGGINGFACEHUB_API_TOKEN\")\n",
    "\n",
    "conversation_model_name =  \"meta-llama/Llama-3.1-8B-Instruct\" # \"meta-llama/Meta-Llama-3-8B\" # \"microsoft/DialoGPT-medium\" # \"bigscience/bloom\" # \n",
    "conversation_tokenizer = AutoTokenizer.from_pretrained(conversation_model_name, token=HF_TOKEN)\n",
    "conversation_model = AutoModelForCausalLM.from_pretrained(conversation_model_name, token=HF_TOKEN)"
   ]
  },
  {
   "cell_type": "code",
   "execution_count": 2,
   "metadata": {},
   "outputs": [],
   "source": [
    "def get_conversation_response(prompt, history):\n",
    "    # Encode the input with an attention mask\n",
    "    input_ids = conversation_tokenizer.encode(prompt + conversation_tokenizer.eos_token, return_tensors=\"pt\")\n",
    "    attention_mask = torch.ones_like(input_ids)\n",
    "\n",
    "    # Combine with history if available\n",
    "    if history is not None:\n",
    "        bot_input_ids = torch.cat([history, input_ids], dim=-1)\n",
    "        attention_mask = torch.cat([torch.ones_like(history), attention_mask], dim=-1)\n",
    "    else:\n",
    "        bot_input_ids = input_ids\n",
    "\n",
    "    # Generate the response\n",
    "    response = conversation_model.generate(\n",
    "        bot_input_ids, \n",
    "        attention_mask=attention_mask, \n",
    "        max_length=1000, \n",
    "        pad_token_id=conversation_tokenizer.eos_token_id\n",
    "    )\n",
    "\n",
    "    # Decode and return the response and history\n",
    "    return conversation_tokenizer.decode(response[:, bot_input_ids.shape[-1]:][0], skip_special_tokens=True), bot_input_ids\n"
   ]
  },
  {
   "cell_type": "code",
   "execution_count": 3,
   "metadata": {},
   "outputs": [
    {
     "data": {
      "text/plain": [
       "('Hello! How can I assist you today?', tensor([[128000,   9906, 128009]]))"
      ]
     },
     "execution_count": 3,
     "metadata": {},
     "output_type": "execute_result"
    }
   ],
   "source": [
    "get_conversation_response('Hello', None)"
   ]
  }
 ],
 "metadata": {
  "kernelspec": {
   "display_name": "my_env",
   "language": "python",
   "name": "python3"
  },
  "language_info": {
   "codemirror_mode": {
    "name": "ipython",
    "version": 3
   },
   "file_extension": ".py",
   "mimetype": "text/x-python",
   "name": "python",
   "nbconvert_exporter": "python",
   "pygments_lexer": "ipython3",
   "version": "3.12.7"
  }
 },
 "nbformat": 4,
 "nbformat_minor": 2
}
